{
 "cells": [
  {
   "cell_type": "code",
   "execution_count": 32,
   "metadata": {},
   "outputs": [
    {
     "name": "stdout",
     "output_type": "stream",
     "text": [
      "Collecting lale\n",
      "  Downloading https://files.pythonhosted.org/packages/7c/3b/efd5e7b09d48f06048b826fe2bca6f34439fea75fb325024ad112ecdadca/lale-0.3.11-py3-none-any.whl (628kB)\n",
      "Collecting hyperopt==0.2.3 (from lale)\n",
      "  Downloading https://files.pythonhosted.org/packages/7e/11/8bbbb5edb78c40a2bd0f6b730e3dc0f29ffbaea9a59520eb9622951e9151/hyperopt-0.2.3-py3-none-any.whl (1.9MB)\n",
      "Collecting jsonsubschema (from lale)\n",
      "  Downloading https://files.pythonhosted.org/packages/31/bb/b2bba9f5c7a4e93917c39d744b1093846143cfec021d41ff5a9bf5c05bb5/jsonsubschema-0.0.1-py3-none-any.whl\n",
      "Collecting graphviz (from lale)\n",
      "  Downloading https://files.pythonhosted.org/packages/83/cc/c62100906d30f95d46451c15eb407da7db201e30f42008f3643945910373/graphviz-0.14-py2.py3-none-any.whl\n",
      "Requirement already satisfied: h5py in c:\\users\\virus\\anaconda3\\lib\\site-packages (from lale) (2.9.0)\n",
      "Requirement already satisfied: pandas<=0.25.3 in c:\\users\\virus\\anaconda3\\lib\\site-packages (from lale) (0.24.2)\n",
      "Collecting lightgbm (from lale)\n",
      "  Downloading https://files.pythonhosted.org/packages/1f/cb/a8ec24334c35a7d0c87b4e4e056bd2137573c7c1bd81c760b79a2f370254/lightgbm-2.3.1-py2.py3-none-win_amd64.whl (544kB)\n",
      "Requirement already satisfied: numpy in c:\\users\\virus\\anaconda3\\lib\\site-packages (from lale) (1.16.2)\n",
      "Requirement already satisfied: scipy in c:\\users\\virus\\anaconda3\\lib\\site-packages (from lale) (1.2.1)\n",
      "Requirement already satisfied: scikit-learn==0.20.3 in c:\\users\\virus\\anaconda3\\lib\\site-packages (from lale) (0.20.3)\n",
      "Collecting xgboost (from lale)\n",
      "  Downloading https://files.pythonhosted.org/packages/b1/11/cba4be5a737c6431323b89b5ade818b3bbe1df6e8261c6c70221a767c5d9/xgboost-1.0.2-py3-none-win_amd64.whl (24.6MB)\n",
      "Requirement already satisfied: decorator in c:\\users\\virus\\anaconda3\\lib\\site-packages (from lale) (4.4.0)\n",
      "Collecting astunparse (from lale)\n",
      "  Downloading https://files.pythonhosted.org/packages/2b/03/13dde6512ad7b4557eb792fbcf0c653af6076b81e5941d36ec61f7ce6028/astunparse-1.6.3-py2.py3-none-any.whl\n",
      "Requirement already satisfied: jsonschema in c:\\users\\virus\\anaconda3\\lib\\site-packages (from lale) (3.0.1)\n",
      "Requirement already satisfied: future in c:\\users\\virus\\anaconda3\\lib\\site-packages (from hyperopt==0.2.3->lale) (0.17.1)\n",
      "Requirement already satisfied: six in c:\\users\\virus\\anaconda3\\lib\\site-packages (from hyperopt==0.2.3->lale) (1.12.0)\n",
      "Requirement already satisfied: cloudpickle in c:\\users\\virus\\anaconda3\\lib\\site-packages (from hyperopt==0.2.3->lale) (0.8.0)\n",
      "Requirement already satisfied: tqdm in c:\\users\\virus\\anaconda3\\lib\\site-packages (from hyperopt==0.2.3->lale) (4.31.1)\n",
      "Requirement already satisfied: networkx==2.2 in c:\\users\\virus\\anaconda3\\lib\\site-packages (from hyperopt==0.2.3->lale) (2.2)\n",
      "Collecting python-intervals (from jsonsubschema->lale)\n",
      "  Downloading https://files.pythonhosted.org/packages/4e/51/b29570d4a820610be14d232aec77e6f0c66bca3d400f4903e98cc00012cb/python_intervals-1.10.0.post1-py2.py3-none-any.whl\n",
      "Collecting greenery (from jsonsubschema->lale)\n",
      "  Downloading https://files.pythonhosted.org/packages/82/69/2c2a77e7034650954e54144ea2b88ec8742a81ac69fbe84da319e0e9112c/greenery-3.1.zip (40kB)\n",
      "Requirement already satisfied: python-dateutil>=2.5.0 in c:\\users\\virus\\anaconda3\\lib\\site-packages (from pandas<=0.25.3->lale) (2.8.0)\n",
      "Requirement already satisfied: pytz>=2011k in c:\\users\\virus\\anaconda3\\lib\\site-packages (from pandas<=0.25.3->lale) (2018.9)\n",
      "Requirement already satisfied: wheel<1.0,>=0.23.0 in c:\\users\\virus\\anaconda3\\lib\\site-packages (from astunparse->lale) (0.33.1)\n",
      "Requirement already satisfied: attrs>=17.4.0 in c:\\users\\virus\\anaconda3\\lib\\site-packages (from jsonschema->lale) (19.1.0)\n",
      "Requirement already satisfied: pyrsistent>=0.14.0 in c:\\users\\virus\\anaconda3\\lib\\site-packages (from jsonschema->lale) (0.14.11)\n",
      "Requirement already satisfied: setuptools in c:\\users\\virus\\anaconda3\\lib\\site-packages (from jsonschema->lale) (40.8.0)\n",
      "Building wheels for collected packages: greenery\n",
      "  Building wheel for greenery (setup.py): started\n",
      "  Building wheel for greenery (setup.py): finished with status 'done'\n",
      "  Stored in directory: C:\\Users\\VIRUS\\AppData\\Local\\pip\\Cache\\wheels\\af\\89\\c9\\732423b6882ac44308df31022ec106ac759e2f6709a4c7efd8\n",
      "Successfully built greenery\n",
      "Installing collected packages: hyperopt, python-intervals, greenery, jsonsubschema, graphviz, lightgbm, xgboost, astunparse, lale\n",
      "Successfully installed astunparse-1.6.3 graphviz-0.14 greenery-3.1 hyperopt-0.2.3 jsonsubschema-0.0.1 lale-0.3.11 lightgbm-2.3.1 python-intervals-1.10.0.post1 xgboost-1.0.2\n",
      "Note: you may need to restart the kernel to use updated packages.\n"
     ]
    }
   ],
   "source": [
    "pip install lale\n"
   ]
  },
  {
   "cell_type": "code",
   "execution_count": 1,
   "metadata": {},
   "outputs": [],
   "source": [
    "import numpy as np\n",
    "import pandas as pd\n",
    "import seaborn as sns\n",
    "import matplotlib.pyplot as plt\n",
    "import datetime\n",
    "%matplotlib inline  \n",
    "from sklearn.model_selection import train_test_split, cross_val_predict\n",
    "from sklearn.preprocessing import StandardScaler, MinMaxScaler\n",
    "from sklearn.neighbors import KNeighborsRegressor\n",
    "from sklearn.ensemble import RandomForestRegressor, GradientBoostingRegressor \n",
    "from sklearn.linear_model import Lasso, Ridge, LinearRegression\n",
    "from sklearn.svm import SVR\n",
    "from sklearn.model_selection import cross_val_predict, cross_val_score"
   ]
  },
  {
   "cell_type": "code",
   "execution_count": 2,
   "metadata": {
    "scrolled": true
   },
   "outputs": [
    {
     "data": {
      "text/html": [
       "<div>\n",
       "<style scoped>\n",
       "    .dataframe tbody tr th:only-of-type {\n",
       "        vertical-align: middle;\n",
       "    }\n",
       "\n",
       "    .dataframe tbody tr th {\n",
       "        vertical-align: top;\n",
       "    }\n",
       "\n",
       "    .dataframe thead th {\n",
       "        text-align: right;\n",
       "    }\n",
       "</style>\n",
       "<table border=\"1\" class=\"dataframe\">\n",
       "  <thead>\n",
       "    <tr style=\"text-align: right;\">\n",
       "      <th></th>\n",
       "      <th>dt</th>\n",
       "      <th>AverageTemperature</th>\n",
       "      <th>AverageTemperatureUncertainty</th>\n",
       "      <th>Country</th>\n",
       "    </tr>\n",
       "  </thead>\n",
       "  <tbody>\n",
       "    <tr>\n",
       "      <th>0</th>\n",
       "      <td>1743-11-01</td>\n",
       "      <td>4.384</td>\n",
       "      <td>2.294</td>\n",
       "      <td>Åland</td>\n",
       "    </tr>\n",
       "    <tr>\n",
       "      <th>1</th>\n",
       "      <td>1743-12-01</td>\n",
       "      <td>NaN</td>\n",
       "      <td>NaN</td>\n",
       "      <td>Åland</td>\n",
       "    </tr>\n",
       "    <tr>\n",
       "      <th>2</th>\n",
       "      <td>1744-01-01</td>\n",
       "      <td>NaN</td>\n",
       "      <td>NaN</td>\n",
       "      <td>Åland</td>\n",
       "    </tr>\n",
       "    <tr>\n",
       "      <th>3</th>\n",
       "      <td>1744-02-01</td>\n",
       "      <td>NaN</td>\n",
       "      <td>NaN</td>\n",
       "      <td>Åland</td>\n",
       "    </tr>\n",
       "    <tr>\n",
       "      <th>4</th>\n",
       "      <td>1744-03-01</td>\n",
       "      <td>NaN</td>\n",
       "      <td>NaN</td>\n",
       "      <td>Åland</td>\n",
       "    </tr>\n",
       "    <tr>\n",
       "      <th>5</th>\n",
       "      <td>1744-04-01</td>\n",
       "      <td>1.530</td>\n",
       "      <td>4.680</td>\n",
       "      <td>Åland</td>\n",
       "    </tr>\n",
       "    <tr>\n",
       "      <th>6</th>\n",
       "      <td>1744-05-01</td>\n",
       "      <td>6.702</td>\n",
       "      <td>1.789</td>\n",
       "      <td>Åland</td>\n",
       "    </tr>\n",
       "    <tr>\n",
       "      <th>7</th>\n",
       "      <td>1744-06-01</td>\n",
       "      <td>11.609</td>\n",
       "      <td>1.577</td>\n",
       "      <td>Åland</td>\n",
       "    </tr>\n",
       "    <tr>\n",
       "      <th>8</th>\n",
       "      <td>1744-07-01</td>\n",
       "      <td>15.342</td>\n",
       "      <td>1.410</td>\n",
       "      <td>Åland</td>\n",
       "    </tr>\n",
       "    <tr>\n",
       "      <th>9</th>\n",
       "      <td>1744-08-01</td>\n",
       "      <td>NaN</td>\n",
       "      <td>NaN</td>\n",
       "      <td>Åland</td>\n",
       "    </tr>\n",
       "  </tbody>\n",
       "</table>\n",
       "</div>"
      ],
      "text/plain": [
       "           dt  AverageTemperature  AverageTemperatureUncertainty Country\n",
       "0  1743-11-01               4.384                          2.294   Åland\n",
       "1  1743-12-01                 NaN                            NaN   Åland\n",
       "2  1744-01-01                 NaN                            NaN   Åland\n",
       "3  1744-02-01                 NaN                            NaN   Åland\n",
       "4  1744-03-01                 NaN                            NaN   Åland\n",
       "5  1744-04-01               1.530                          4.680   Åland\n",
       "6  1744-05-01               6.702                          1.789   Åland\n",
       "7  1744-06-01              11.609                          1.577   Åland\n",
       "8  1744-07-01              15.342                          1.410   Åland\n",
       "9  1744-08-01                 NaN                            NaN   Åland"
      ]
     },
     "execution_count": 2,
     "metadata": {},
     "output_type": "execute_result"
    }
   ],
   "source": [
    "clim = pd.read_csv('GlobalLandTemperatures-GlobalLandTemperaturesByCountry.csv')\n",
    "clim.head(10)"
   ]
  },
  {
   "cell_type": "code",
   "execution_count": 3,
   "metadata": {},
   "outputs": [
    {
     "data": {
      "text/html": [
       "<div>\n",
       "<style scoped>\n",
       "    .dataframe tbody tr th:only-of-type {\n",
       "        vertical-align: middle;\n",
       "    }\n",
       "\n",
       "    .dataframe tbody tr th {\n",
       "        vertical-align: top;\n",
       "    }\n",
       "\n",
       "    .dataframe thead th {\n",
       "        text-align: right;\n",
       "    }\n",
       "</style>\n",
       "<table border=\"1\" class=\"dataframe\">\n",
       "  <thead>\n",
       "    <tr style=\"text-align: right;\">\n",
       "      <th></th>\n",
       "      <th>AverageTemperature</th>\n",
       "      <th>AverageTemperatureUncertainty</th>\n",
       "    </tr>\n",
       "  </thead>\n",
       "  <tbody>\n",
       "    <tr>\n",
       "      <th>count</th>\n",
       "      <td>544811.000000</td>\n",
       "      <td>545550.000000</td>\n",
       "    </tr>\n",
       "    <tr>\n",
       "      <th>mean</th>\n",
       "      <td>17.193354</td>\n",
       "      <td>1.019057</td>\n",
       "    </tr>\n",
       "    <tr>\n",
       "      <th>std</th>\n",
       "      <td>10.953966</td>\n",
       "      <td>1.201930</td>\n",
       "    </tr>\n",
       "    <tr>\n",
       "      <th>min</th>\n",
       "      <td>-37.658000</td>\n",
       "      <td>0.052000</td>\n",
       "    </tr>\n",
       "    <tr>\n",
       "      <th>25%</th>\n",
       "      <td>10.025000</td>\n",
       "      <td>0.323000</td>\n",
       "    </tr>\n",
       "    <tr>\n",
       "      <th>50%</th>\n",
       "      <td>20.901000</td>\n",
       "      <td>0.571000</td>\n",
       "    </tr>\n",
       "    <tr>\n",
       "      <th>75%</th>\n",
       "      <td>25.814000</td>\n",
       "      <td>1.206000</td>\n",
       "    </tr>\n",
       "    <tr>\n",
       "      <th>max</th>\n",
       "      <td>38.842000</td>\n",
       "      <td>15.003000</td>\n",
       "    </tr>\n",
       "  </tbody>\n",
       "</table>\n",
       "</div>"
      ],
      "text/plain": [
       "       AverageTemperature  AverageTemperatureUncertainty\n",
       "count       544811.000000                  545550.000000\n",
       "mean            17.193354                       1.019057\n",
       "std             10.953966                       1.201930\n",
       "min            -37.658000                       0.052000\n",
       "25%             10.025000                       0.323000\n",
       "50%             20.901000                       0.571000\n",
       "75%             25.814000                       1.206000\n",
       "max             38.842000                      15.003000"
      ]
     },
     "execution_count": 3,
     "metadata": {},
     "output_type": "execute_result"
    }
   ],
   "source": [
    "clim.describe()\n"
   ]
  },
  {
   "cell_type": "code",
   "execution_count": 4,
   "metadata": {},
   "outputs": [
    {
     "data": {
      "text/plain": [
       "Poland                                       3239\n",
       "Switzerland                                  3239\n",
       "Ireland                                      3239\n",
       "Estonia                                      3239\n",
       "Greece                                       3239\n",
       "France (Europe)                              3239\n",
       "Iceland                                      3239\n",
       "Bulgaria                                     3239\n",
       "Faroe Islands                                3239\n",
       "Austria                                      3239\n",
       "Albania                                      3239\n",
       "Jersey                                       3239\n",
       "Monaco                                       3239\n",
       "France                                       3239\n",
       "Finland                                      3239\n",
       "Andorra                                      3239\n",
       "United Kingdom (Europe)                      3239\n",
       "Hungary                                      3239\n",
       "Åland                                        3239\n",
       "Belarus                                      3239\n",
       "Serbia                                       3239\n",
       "Moldova                                      3239\n",
       "Germany                                      3239\n",
       "Spain                                        3239\n",
       "San Marino                                   3239\n",
       "Czech Republic                               3239\n",
       "Lithuania                                    3239\n",
       "Romania                                      3239\n",
       "Denmark (Europe)                             3239\n",
       "Isle Of Man                                  3239\n",
       "                                             ... \n",
       "Botswana                                     1881\n",
       "Namibia                                      1881\n",
       "Lesotho                                      1881\n",
       "Angola                                       1878\n",
       "New Caledonia                                1870\n",
       "Falkland Islands (Islas Malvinas)            1845\n",
       "Djibouti                                     1797\n",
       "Eritrea                                      1797\n",
       "Ecuador                                      1771\n",
       "Tonga                                        1761\n",
       "Niue                                         1761\n",
       "Fiji                                         1761\n",
       "Samoa                                        1761\n",
       "American Samoa                               1761\n",
       "Solomon Islands                              1761\n",
       "South Georgia And The South Sandwich Isla    1666\n",
       "Yemen                                        1653\n",
       "French Polynesia                             1646\n",
       "Timor Leste                                  1627\n",
       "Palau                                        1581\n",
       "Papua New Guinea                             1581\n",
       "Palmyra Atoll                                1569\n",
       "Kiribati                                     1569\n",
       "Kingman Reef                                 1569\n",
       "Federated States Of Micronesia               1427\n",
       "Guam                                         1329\n",
       "Northern Mariana Islands                     1329\n",
       "Heard Island And Mcdonald Islands             788\n",
       "French Southern And Antarctic Lands           788\n",
       "Antarctica                                    764\n",
       "Name: Country, Length: 243, dtype: int64"
      ]
     },
     "execution_count": 4,
     "metadata": {},
     "output_type": "execute_result"
    }
   ],
   "source": [
    "clim['Country'].value_counts()"
   ]
  },
  {
   "cell_type": "code",
   "execution_count": 5,
   "metadata": {},
   "outputs": [
    {
     "data": {
      "text/plain": [
       "dt                               1893\n",
       "AverageTemperature               1721\n",
       "AverageTemperatureUncertainty    1721\n",
       "Country                          1893\n",
       "dtype: int64"
      ]
     },
     "execution_count": 5,
     "metadata": {},
     "output_type": "execute_result"
    }
   ],
   "source": [
    "clim[clim[\"Country\"] == \"Nigeria\"].count()"
   ]
  },
  {
   "cell_type": "code",
   "execution_count": 6,
   "metadata": {},
   "outputs": [
    {
     "data": {
      "text/html": [
       "<div>\n",
       "<style scoped>\n",
       "    .dataframe tbody tr th:only-of-type {\n",
       "        vertical-align: middle;\n",
       "    }\n",
       "\n",
       "    .dataframe tbody tr th {\n",
       "        vertical-align: top;\n",
       "    }\n",
       "\n",
       "    .dataframe thead th {\n",
       "        text-align: right;\n",
       "    }\n",
       "</style>\n",
       "<table border=\"1\" class=\"dataframe\">\n",
       "  <thead>\n",
       "    <tr style=\"text-align: right;\">\n",
       "      <th></th>\n",
       "      <th>dt</th>\n",
       "      <th>AverageTemperature</th>\n",
       "      <th>AverageTemperatureUncertainty</th>\n",
       "      <th>Country</th>\n",
       "    </tr>\n",
       "  </thead>\n",
       "  <tbody>\n",
       "    <tr>\n",
       "      <th>378950</th>\n",
       "      <td>1856-01-01</td>\n",
       "      <td>24.367</td>\n",
       "      <td>1.082</td>\n",
       "      <td>Nigeria</td>\n",
       "    </tr>\n",
       "    <tr>\n",
       "      <th>378951</th>\n",
       "      <td>1856-02-01</td>\n",
       "      <td>25.827</td>\n",
       "      <td>1.621</td>\n",
       "      <td>Nigeria</td>\n",
       "    </tr>\n",
       "    <tr>\n",
       "      <th>378952</th>\n",
       "      <td>1856-03-01</td>\n",
       "      <td>28.494</td>\n",
       "      <td>1.015</td>\n",
       "      <td>Nigeria</td>\n",
       "    </tr>\n",
       "    <tr>\n",
       "      <th>378953</th>\n",
       "      <td>1856-04-01</td>\n",
       "      <td>29.001</td>\n",
       "      <td>0.985</td>\n",
       "      <td>Nigeria</td>\n",
       "    </tr>\n",
       "    <tr>\n",
       "      <th>378954</th>\n",
       "      <td>1856-05-01</td>\n",
       "      <td>28.093</td>\n",
       "      <td>1.198</td>\n",
       "      <td>Nigeria</td>\n",
       "    </tr>\n",
       "    <tr>\n",
       "      <th>378955</th>\n",
       "      <td>1856-06-01</td>\n",
       "      <td>NaN</td>\n",
       "      <td>NaN</td>\n",
       "      <td>Nigeria</td>\n",
       "    </tr>\n",
       "    <tr>\n",
       "      <th>378956</th>\n",
       "      <td>1856-07-01</td>\n",
       "      <td>NaN</td>\n",
       "      <td>NaN</td>\n",
       "      <td>Nigeria</td>\n",
       "    </tr>\n",
       "    <tr>\n",
       "      <th>378957</th>\n",
       "      <td>1856-08-01</td>\n",
       "      <td>NaN</td>\n",
       "      <td>NaN</td>\n",
       "      <td>Nigeria</td>\n",
       "    </tr>\n",
       "    <tr>\n",
       "      <th>378958</th>\n",
       "      <td>1856-09-01</td>\n",
       "      <td>NaN</td>\n",
       "      <td>NaN</td>\n",
       "      <td>Nigeria</td>\n",
       "    </tr>\n",
       "    <tr>\n",
       "      <th>378959</th>\n",
       "      <td>1856-10-01</td>\n",
       "      <td>NaN</td>\n",
       "      <td>NaN</td>\n",
       "      <td>Nigeria</td>\n",
       "    </tr>\n",
       "  </tbody>\n",
       "</table>\n",
       "</div>"
      ],
      "text/plain": [
       "                dt  AverageTemperature  AverageTemperatureUncertainty  Country\n",
       "378950  1856-01-01              24.367                          1.082  Nigeria\n",
       "378951  1856-02-01              25.827                          1.621  Nigeria\n",
       "378952  1856-03-01              28.494                          1.015  Nigeria\n",
       "378953  1856-04-01              29.001                          0.985  Nigeria\n",
       "378954  1856-05-01              28.093                          1.198  Nigeria\n",
       "378955  1856-06-01                 NaN                            NaN  Nigeria\n",
       "378956  1856-07-01                 NaN                            NaN  Nigeria\n",
       "378957  1856-08-01                 NaN                            NaN  Nigeria\n",
       "378958  1856-09-01                 NaN                            NaN  Nigeria\n",
       "378959  1856-10-01                 NaN                            NaN  Nigeria"
      ]
     },
     "execution_count": 6,
     "metadata": {},
     "output_type": "execute_result"
    }
   ],
   "source": [
    "x = clim[\"Country\"] == \"Nigeria\"\n",
    "clim[x].head(10)"
   ]
  },
  {
   "cell_type": "code",
   "execution_count": 7,
   "metadata": {},
   "outputs": [
    {
     "name": "stdout",
     "output_type": "stream",
     "text": [
      "<class 'pandas.core.frame.DataFrame'>\n",
      "Int64Index: 1893 entries, 378950 to 380842\n",
      "Data columns (total 4 columns):\n",
      "dt                               1893 non-null object\n",
      "AverageTemperature               1721 non-null float64\n",
      "AverageTemperatureUncertainty    1721 non-null float64\n",
      "Country                          1893 non-null object\n",
      "dtypes: float64(2), object(2)\n",
      "memory usage: 73.9+ KB\n"
     ]
    }
   ],
   "source": [
    "clim[x].info()\n",
    "N_clim = clim[x]"
   ]
  },
  {
   "cell_type": "code",
   "execution_count": 8,
   "metadata": {},
   "outputs": [
    {
     "data": {
      "text/html": [
       "<div>\n",
       "<style scoped>\n",
       "    .dataframe tbody tr th:only-of-type {\n",
       "        vertical-align: middle;\n",
       "    }\n",
       "\n",
       "    .dataframe tbody tr th {\n",
       "        vertical-align: top;\n",
       "    }\n",
       "\n",
       "    .dataframe thead th {\n",
       "        text-align: right;\n",
       "    }\n",
       "</style>\n",
       "<table border=\"1\" class=\"dataframe\">\n",
       "  <thead>\n",
       "    <tr style=\"text-align: right;\">\n",
       "      <th></th>\n",
       "      <th>AverageTemperature</th>\n",
       "      <th>AverageTemperatureUncertainty</th>\n",
       "    </tr>\n",
       "  </thead>\n",
       "  <tbody>\n",
       "    <tr>\n",
       "      <th>count</th>\n",
       "      <td>1721.000000</td>\n",
       "      <td>1721.000000</td>\n",
       "    </tr>\n",
       "    <tr>\n",
       "      <th>mean</th>\n",
       "      <td>26.744708</td>\n",
       "      <td>0.583248</td>\n",
       "    </tr>\n",
       "    <tr>\n",
       "      <th>std</th>\n",
       "      <td>1.813179</td>\n",
       "      <td>0.384318</td>\n",
       "    </tr>\n",
       "    <tr>\n",
       "      <th>min</th>\n",
       "      <td>22.295000</td>\n",
       "      <td>0.101000</td>\n",
       "    </tr>\n",
       "    <tr>\n",
       "      <th>25%</th>\n",
       "      <td>25.474000</td>\n",
       "      <td>0.292000</td>\n",
       "    </tr>\n",
       "    <tr>\n",
       "      <th>50%</th>\n",
       "      <td>26.448000</td>\n",
       "      <td>0.446000</td>\n",
       "    </tr>\n",
       "    <tr>\n",
       "      <th>75%</th>\n",
       "      <td>28.178000</td>\n",
       "      <td>0.809000</td>\n",
       "    </tr>\n",
       "    <tr>\n",
       "      <th>max</th>\n",
       "      <td>31.833000</td>\n",
       "      <td>3.050000</td>\n",
       "    </tr>\n",
       "  </tbody>\n",
       "</table>\n",
       "</div>"
      ],
      "text/plain": [
       "       AverageTemperature  AverageTemperatureUncertainty\n",
       "count         1721.000000                    1721.000000\n",
       "mean            26.744708                       0.583248\n",
       "std              1.813179                       0.384318\n",
       "min             22.295000                       0.101000\n",
       "25%             25.474000                       0.292000\n",
       "50%             26.448000                       0.446000\n",
       "75%             28.178000                       0.809000\n",
       "max             31.833000                       3.050000"
      ]
     },
     "execution_count": 8,
     "metadata": {},
     "output_type": "execute_result"
    }
   ],
   "source": [
    "N_clim.describe()"
   ]
  },
  {
   "cell_type": "code",
   "execution_count": 9,
   "metadata": {},
   "outputs": [],
   "source": [
    "N_clim = N_clim.reset_index(drop = True)#restart index count rom zero"
   ]
  },
  {
   "cell_type": "code",
   "execution_count": 10,
   "metadata": {},
   "outputs": [],
   "source": [
    "clm = N_clim.copy()#make a copy of N_clim and place it in clm"
   ]
  },
  {
   "cell_type": "code",
   "execution_count": 11,
   "metadata": {},
   "outputs": [
    {
     "data": {
      "text/plain": [
       "0    24.367\n",
       "1    25.827\n",
       "2    28.494\n",
       "3    29.001\n",
       "4    28.093\n",
       "5       NaN\n",
       "Name: AverageTemperature, dtype: float64"
      ]
     },
     "execution_count": 11,
     "metadata": {},
     "output_type": "execute_result"
    }
   ],
   "source": [
    "clm[\"AverageTemperature\"].head(6)"
   ]
  },
  {
   "cell_type": "code",
   "execution_count": 12,
   "metadata": {},
   "outputs": [],
   "source": [
    "c = clm[[\"AverageTemperature\",\"AverageTemperatureUncertainty\"]]"
   ]
  },
  {
   "cell_type": "code",
   "execution_count": 13,
   "metadata": {},
   "outputs": [
    {
     "name": "stderr",
     "output_type": "stream",
     "text": [
      "C:\\Users\\VIRUS\\Anaconda3\\lib\\site-packages\\sklearn\\utils\\deprecation.py:58: DeprecationWarning: Class Imputer is deprecated; Imputer was deprecated in version 0.20 and will be removed in 0.22. Import impute.SimpleImputer from sklearn instead.\n",
      "  warnings.warn(msg, category=DeprecationWarning)\n"
     ]
    },
    {
     "data": {
      "text/html": [
       "<div>\n",
       "<style scoped>\n",
       "    .dataframe tbody tr th:only-of-type {\n",
       "        vertical-align: middle;\n",
       "    }\n",
       "\n",
       "    .dataframe tbody tr th {\n",
       "        vertical-align: top;\n",
       "    }\n",
       "\n",
       "    .dataframe thead th {\n",
       "        text-align: right;\n",
       "    }\n",
       "</style>\n",
       "<table border=\"1\" class=\"dataframe\">\n",
       "  <thead>\n",
       "    <tr style=\"text-align: right;\">\n",
       "      <th></th>\n",
       "      <th>AverageTemperature</th>\n",
       "      <th>AverageTemperatureUncertainty</th>\n",
       "    </tr>\n",
       "  </thead>\n",
       "  <tbody>\n",
       "    <tr>\n",
       "      <th>0</th>\n",
       "      <td>24.367</td>\n",
       "      <td>1.082</td>\n",
       "    </tr>\n",
       "    <tr>\n",
       "      <th>1</th>\n",
       "      <td>25.827</td>\n",
       "      <td>1.621</td>\n",
       "    </tr>\n",
       "    <tr>\n",
       "      <th>2</th>\n",
       "      <td>28.494</td>\n",
       "      <td>1.015</td>\n",
       "    </tr>\n",
       "    <tr>\n",
       "      <th>3</th>\n",
       "      <td>29.001</td>\n",
       "      <td>0.985</td>\n",
       "    </tr>\n",
       "    <tr>\n",
       "      <th>4</th>\n",
       "      <td>28.093</td>\n",
       "      <td>1.198</td>\n",
       "    </tr>\n",
       "  </tbody>\n",
       "</table>\n",
       "</div>"
      ],
      "text/plain": [
       "   AverageTemperature  AverageTemperatureUncertainty\n",
       "0              24.367                          1.082\n",
       "1              25.827                          1.621\n",
       "2              28.494                          1.015\n",
       "3              29.001                          0.985\n",
       "4              28.093                          1.198"
      ]
     },
     "execution_count": 13,
     "metadata": {},
     "output_type": "execute_result"
    }
   ],
   "source": [
    "from sklearn.preprocessing import Imputer\n",
    "imputer = Imputer(strategy = 'median')\n",
    "imputer.fit(c)\n",
    "c = pd.DataFrame(data=imputer.transform(c), columns=c.columns)\n",
    "c.head()"
   ]
  },
  {
   "cell_type": "code",
   "execution_count": 14,
   "metadata": {},
   "outputs": [
    {
     "data": {
      "text/plain": [
       "0    24.367\n",
       "1    25.827\n",
       "2    28.494\n",
       "3    29.001\n",
       "4    28.093\n",
       "5       NaN\n",
       "6       NaN\n",
       "Name: AverageTemperature, dtype: float64"
      ]
     },
     "execution_count": 14,
     "metadata": {},
     "output_type": "execute_result"
    }
   ],
   "source": [
    "clm[\"AverageTemperature\"].head(7)"
   ]
  },
  {
   "cell_type": "code",
   "execution_count": 15,
   "metadata": {},
   "outputs": [
    {
     "data": {
      "text/html": [
       "<div>\n",
       "<style scoped>\n",
       "    .dataframe tbody tr th:only-of-type {\n",
       "        vertical-align: middle;\n",
       "    }\n",
       "\n",
       "    .dataframe tbody tr th {\n",
       "        vertical-align: top;\n",
       "    }\n",
       "\n",
       "    .dataframe thead th {\n",
       "        text-align: right;\n",
       "    }\n",
       "</style>\n",
       "<table border=\"1\" class=\"dataframe\">\n",
       "  <thead>\n",
       "    <tr style=\"text-align: right;\">\n",
       "      <th></th>\n",
       "      <th>AverageTemperature</th>\n",
       "      <th>AverageTemperatureUncertainty</th>\n",
       "    </tr>\n",
       "  </thead>\n",
       "  <tbody>\n",
       "    <tr>\n",
       "      <th>0</th>\n",
       "      <td>24.367</td>\n",
       "      <td>1.082</td>\n",
       "    </tr>\n",
       "    <tr>\n",
       "      <th>1</th>\n",
       "      <td>25.827</td>\n",
       "      <td>1.621</td>\n",
       "    </tr>\n",
       "    <tr>\n",
       "      <th>2</th>\n",
       "      <td>28.494</td>\n",
       "      <td>1.015</td>\n",
       "    </tr>\n",
       "    <tr>\n",
       "      <th>3</th>\n",
       "      <td>29.001</td>\n",
       "      <td>0.985</td>\n",
       "    </tr>\n",
       "    <tr>\n",
       "      <th>4</th>\n",
       "      <td>28.093</td>\n",
       "      <td>1.198</td>\n",
       "    </tr>\n",
       "    <tr>\n",
       "      <th>5</th>\n",
       "      <td>26.448</td>\n",
       "      <td>0.446</td>\n",
       "    </tr>\n",
       "    <tr>\n",
       "      <th>6</th>\n",
       "      <td>26.448</td>\n",
       "      <td>0.446</td>\n",
       "    </tr>\n",
       "  </tbody>\n",
       "</table>\n",
       "</div>"
      ],
      "text/plain": [
       "   AverageTemperature  AverageTemperatureUncertainty\n",
       "0              24.367                          1.082\n",
       "1              25.827                          1.621\n",
       "2              28.494                          1.015\n",
       "3              29.001                          0.985\n",
       "4              28.093                          1.198\n",
       "5              26.448                          0.446\n",
       "6              26.448                          0.446"
      ]
     },
     "execution_count": 15,
     "metadata": {},
     "output_type": "execute_result"
    }
   ],
   "source": [
    "c.head(7)"
   ]
  },
  {
   "cell_type": "code",
   "execution_count": 16,
   "metadata": {},
   "outputs": [],
   "source": [
    "clm = clm.drop([\"AverageTemperature\", \"AverageTemperatureUncertainty\"], axis =1)"
   ]
  },
  {
   "cell_type": "code",
   "execution_count": 17,
   "metadata": {},
   "outputs": [
    {
     "data": {
      "text/html": [
       "<div>\n",
       "<style scoped>\n",
       "    .dataframe tbody tr th:only-of-type {\n",
       "        vertical-align: middle;\n",
       "    }\n",
       "\n",
       "    .dataframe tbody tr th {\n",
       "        vertical-align: top;\n",
       "    }\n",
       "\n",
       "    .dataframe thead th {\n",
       "        text-align: right;\n",
       "    }\n",
       "</style>\n",
       "<table border=\"1\" class=\"dataframe\">\n",
       "  <thead>\n",
       "    <tr style=\"text-align: right;\">\n",
       "      <th></th>\n",
       "      <th>dt</th>\n",
       "      <th>Country</th>\n",
       "    </tr>\n",
       "  </thead>\n",
       "  <tbody>\n",
       "    <tr>\n",
       "      <th>0</th>\n",
       "      <td>1856-01-01</td>\n",
       "      <td>Nigeria</td>\n",
       "    </tr>\n",
       "    <tr>\n",
       "      <th>1</th>\n",
       "      <td>1856-02-01</td>\n",
       "      <td>Nigeria</td>\n",
       "    </tr>\n",
       "    <tr>\n",
       "      <th>2</th>\n",
       "      <td>1856-03-01</td>\n",
       "      <td>Nigeria</td>\n",
       "    </tr>\n",
       "    <tr>\n",
       "      <th>3</th>\n",
       "      <td>1856-04-01</td>\n",
       "      <td>Nigeria</td>\n",
       "    </tr>\n",
       "    <tr>\n",
       "      <th>4</th>\n",
       "      <td>1856-05-01</td>\n",
       "      <td>Nigeria</td>\n",
       "    </tr>\n",
       "  </tbody>\n",
       "</table>\n",
       "</div>"
      ],
      "text/plain": [
       "           dt  Country\n",
       "0  1856-01-01  Nigeria\n",
       "1  1856-02-01  Nigeria\n",
       "2  1856-03-01  Nigeria\n",
       "3  1856-04-01  Nigeria\n",
       "4  1856-05-01  Nigeria"
      ]
     },
     "execution_count": 17,
     "metadata": {},
     "output_type": "execute_result"
    }
   ],
   "source": [
    "clm.head()"
   ]
  },
  {
   "cell_type": "code",
   "execution_count": 18,
   "metadata": {},
   "outputs": [
    {
     "data": {
      "text/html": [
       "<div>\n",
       "<style scoped>\n",
       "    .dataframe tbody tr th:only-of-type {\n",
       "        vertical-align: middle;\n",
       "    }\n",
       "\n",
       "    .dataframe tbody tr th {\n",
       "        vertical-align: top;\n",
       "    }\n",
       "\n",
       "    .dataframe thead th {\n",
       "        text-align: right;\n",
       "    }\n",
       "</style>\n",
       "<table border=\"1\" class=\"dataframe\">\n",
       "  <thead>\n",
       "    <tr style=\"text-align: right;\">\n",
       "      <th></th>\n",
       "      <th>dt</th>\n",
       "      <th>Country</th>\n",
       "      <th>AverageTemperature</th>\n",
       "      <th>AverageTemperatureUncertainty</th>\n",
       "    </tr>\n",
       "  </thead>\n",
       "  <tbody>\n",
       "    <tr>\n",
       "      <th>0</th>\n",
       "      <td>1856-01-01</td>\n",
       "      <td>Nigeria</td>\n",
       "      <td>24.367</td>\n",
       "      <td>1.082</td>\n",
       "    </tr>\n",
       "    <tr>\n",
       "      <th>1</th>\n",
       "      <td>1856-02-01</td>\n",
       "      <td>Nigeria</td>\n",
       "      <td>25.827</td>\n",
       "      <td>1.621</td>\n",
       "    </tr>\n",
       "    <tr>\n",
       "      <th>2</th>\n",
       "      <td>1856-03-01</td>\n",
       "      <td>Nigeria</td>\n",
       "      <td>28.494</td>\n",
       "      <td>1.015</td>\n",
       "    </tr>\n",
       "    <tr>\n",
       "      <th>3</th>\n",
       "      <td>1856-04-01</td>\n",
       "      <td>Nigeria</td>\n",
       "      <td>29.001</td>\n",
       "      <td>0.985</td>\n",
       "    </tr>\n",
       "    <tr>\n",
       "      <th>4</th>\n",
       "      <td>1856-05-01</td>\n",
       "      <td>Nigeria</td>\n",
       "      <td>28.093</td>\n",
       "      <td>1.198</td>\n",
       "    </tr>\n",
       "  </tbody>\n",
       "</table>\n",
       "</div>"
      ],
      "text/plain": [
       "           dt  Country  AverageTemperature  AverageTemperatureUncertainty\n",
       "0  1856-01-01  Nigeria              24.367                          1.082\n",
       "1  1856-02-01  Nigeria              25.827                          1.621\n",
       "2  1856-03-01  Nigeria              28.494                          1.015\n",
       "3  1856-04-01  Nigeria              29.001                          0.985\n",
       "4  1856-05-01  Nigeria              28.093                          1.198"
      ]
     },
     "execution_count": 18,
     "metadata": {},
     "output_type": "execute_result"
    }
   ],
   "source": [
    "clm = pd.concat([clm, c], axis = 1)\n",
    "clm.head()"
   ]
  },
  {
   "cell_type": "code",
   "execution_count": 19,
   "metadata": {},
   "outputs": [
    {
     "data": {
      "text/html": [
       "<div>\n",
       "<style scoped>\n",
       "    .dataframe tbody tr th:only-of-type {\n",
       "        vertical-align: middle;\n",
       "    }\n",
       "\n",
       "    .dataframe tbody tr th {\n",
       "        vertical-align: top;\n",
       "    }\n",
       "\n",
       "    .dataframe thead th {\n",
       "        text-align: right;\n",
       "    }\n",
       "</style>\n",
       "<table border=\"1\" class=\"dataframe\">\n",
       "  <thead>\n",
       "    <tr style=\"text-align: right;\">\n",
       "      <th></th>\n",
       "      <th>dt</th>\n",
       "      <th>Country</th>\n",
       "      <th>AverageTemperature</th>\n",
       "      <th>AverageTemperatureUncertainty</th>\n",
       "      <th>year</th>\n",
       "      <th>month</th>\n",
       "    </tr>\n",
       "  </thead>\n",
       "  <tbody>\n",
       "    <tr>\n",
       "      <th>0</th>\n",
       "      <td>1856-01-01</td>\n",
       "      <td>Nigeria</td>\n",
       "      <td>24.367</td>\n",
       "      <td>1.082</td>\n",
       "      <td>1856</td>\n",
       "      <td>01-01</td>\n",
       "    </tr>\n",
       "    <tr>\n",
       "      <th>1</th>\n",
       "      <td>1856-02-01</td>\n",
       "      <td>Nigeria</td>\n",
       "      <td>25.827</td>\n",
       "      <td>1.621</td>\n",
       "      <td>1856</td>\n",
       "      <td>02-01</td>\n",
       "    </tr>\n",
       "    <tr>\n",
       "      <th>2</th>\n",
       "      <td>1856-03-01</td>\n",
       "      <td>Nigeria</td>\n",
       "      <td>28.494</td>\n",
       "      <td>1.015</td>\n",
       "      <td>1856</td>\n",
       "      <td>03-01</td>\n",
       "    </tr>\n",
       "    <tr>\n",
       "      <th>3</th>\n",
       "      <td>1856-04-01</td>\n",
       "      <td>Nigeria</td>\n",
       "      <td>29.001</td>\n",
       "      <td>0.985</td>\n",
       "      <td>1856</td>\n",
       "      <td>04-01</td>\n",
       "    </tr>\n",
       "    <tr>\n",
       "      <th>4</th>\n",
       "      <td>1856-05-01</td>\n",
       "      <td>Nigeria</td>\n",
       "      <td>28.093</td>\n",
       "      <td>1.198</td>\n",
       "      <td>1856</td>\n",
       "      <td>05-01</td>\n",
       "    </tr>\n",
       "  </tbody>\n",
       "</table>\n",
       "</div>"
      ],
      "text/plain": [
       "           dt  Country  AverageTemperature  AverageTemperatureUncertainty  \\\n",
       "0  1856-01-01  Nigeria              24.367                          1.082   \n",
       "1  1856-02-01  Nigeria              25.827                          1.621   \n",
       "2  1856-03-01  Nigeria              28.494                          1.015   \n",
       "3  1856-04-01  Nigeria              29.001                          0.985   \n",
       "4  1856-05-01  Nigeria              28.093                          1.198   \n",
       "\n",
       "   year  month  \n",
       "0  1856  01-01  \n",
       "1  1856  02-01  \n",
       "2  1856  03-01  \n",
       "3  1856  04-01  \n",
       "4  1856  05-01  "
      ]
     },
     "execution_count": 19,
     "metadata": {},
     "output_type": "execute_result"
    }
   ],
   "source": [
    "w = clm['dt'].str.split(\"-\", n=1, expand = True)\n",
    "clm['year']= w[0]\n",
    "clm['month']=w[1]\n",
    "clm.head()"
   ]
  },
  {
   "cell_type": "code",
   "execution_count": 20,
   "metadata": {},
   "outputs": [
    {
     "data": {
      "text/html": [
       "<div>\n",
       "<style scoped>\n",
       "    .dataframe tbody tr th:only-of-type {\n",
       "        vertical-align: middle;\n",
       "    }\n",
       "\n",
       "    .dataframe tbody tr th {\n",
       "        vertical-align: top;\n",
       "    }\n",
       "\n",
       "    .dataframe thead th {\n",
       "        text-align: right;\n",
       "    }\n",
       "</style>\n",
       "<table border=\"1\" class=\"dataframe\">\n",
       "  <thead>\n",
       "    <tr style=\"text-align: right;\">\n",
       "      <th></th>\n",
       "      <th>dt</th>\n",
       "      <th>Country</th>\n",
       "      <th>AverageTemperature</th>\n",
       "      <th>AverageTemperatureUncertainty</th>\n",
       "      <th>year</th>\n",
       "      <th>month</th>\n",
       "      <th>day</th>\n",
       "    </tr>\n",
       "  </thead>\n",
       "  <tbody>\n",
       "    <tr>\n",
       "      <th>0</th>\n",
       "      <td>1856-01-01</td>\n",
       "      <td>Nigeria</td>\n",
       "      <td>24.367</td>\n",
       "      <td>1.082</td>\n",
       "      <td>1856</td>\n",
       "      <td>01</td>\n",
       "      <td>01</td>\n",
       "    </tr>\n",
       "    <tr>\n",
       "      <th>1</th>\n",
       "      <td>1856-02-01</td>\n",
       "      <td>Nigeria</td>\n",
       "      <td>25.827</td>\n",
       "      <td>1.621</td>\n",
       "      <td>1856</td>\n",
       "      <td>02</td>\n",
       "      <td>01</td>\n",
       "    </tr>\n",
       "    <tr>\n",
       "      <th>2</th>\n",
       "      <td>1856-03-01</td>\n",
       "      <td>Nigeria</td>\n",
       "      <td>28.494</td>\n",
       "      <td>1.015</td>\n",
       "      <td>1856</td>\n",
       "      <td>03</td>\n",
       "      <td>01</td>\n",
       "    </tr>\n",
       "    <tr>\n",
       "      <th>3</th>\n",
       "      <td>1856-04-01</td>\n",
       "      <td>Nigeria</td>\n",
       "      <td>29.001</td>\n",
       "      <td>0.985</td>\n",
       "      <td>1856</td>\n",
       "      <td>04</td>\n",
       "      <td>01</td>\n",
       "    </tr>\n",
       "    <tr>\n",
       "      <th>4</th>\n",
       "      <td>1856-05-01</td>\n",
       "      <td>Nigeria</td>\n",
       "      <td>28.093</td>\n",
       "      <td>1.198</td>\n",
       "      <td>1856</td>\n",
       "      <td>05</td>\n",
       "      <td>01</td>\n",
       "    </tr>\n",
       "    <tr>\n",
       "      <th>5</th>\n",
       "      <td>1856-06-01</td>\n",
       "      <td>Nigeria</td>\n",
       "      <td>26.448</td>\n",
       "      <td>0.446</td>\n",
       "      <td>1856</td>\n",
       "      <td>06</td>\n",
       "      <td>01</td>\n",
       "    </tr>\n",
       "    <tr>\n",
       "      <th>6</th>\n",
       "      <td>1856-07-01</td>\n",
       "      <td>Nigeria</td>\n",
       "      <td>26.448</td>\n",
       "      <td>0.446</td>\n",
       "      <td>1856</td>\n",
       "      <td>07</td>\n",
       "      <td>01</td>\n",
       "    </tr>\n",
       "    <tr>\n",
       "      <th>7</th>\n",
       "      <td>1856-08-01</td>\n",
       "      <td>Nigeria</td>\n",
       "      <td>26.448</td>\n",
       "      <td>0.446</td>\n",
       "      <td>1856</td>\n",
       "      <td>08</td>\n",
       "      <td>01</td>\n",
       "    </tr>\n",
       "    <tr>\n",
       "      <th>8</th>\n",
       "      <td>1856-09-01</td>\n",
       "      <td>Nigeria</td>\n",
       "      <td>26.448</td>\n",
       "      <td>0.446</td>\n",
       "      <td>1856</td>\n",
       "      <td>09</td>\n",
       "      <td>01</td>\n",
       "    </tr>\n",
       "    <tr>\n",
       "      <th>9</th>\n",
       "      <td>1856-10-01</td>\n",
       "      <td>Nigeria</td>\n",
       "      <td>26.448</td>\n",
       "      <td>0.446</td>\n",
       "      <td>1856</td>\n",
       "      <td>10</td>\n",
       "      <td>01</td>\n",
       "    </tr>\n",
       "  </tbody>\n",
       "</table>\n",
       "</div>"
      ],
      "text/plain": [
       "           dt  Country  AverageTemperature  AverageTemperatureUncertainty  \\\n",
       "0  1856-01-01  Nigeria              24.367                          1.082   \n",
       "1  1856-02-01  Nigeria              25.827                          1.621   \n",
       "2  1856-03-01  Nigeria              28.494                          1.015   \n",
       "3  1856-04-01  Nigeria              29.001                          0.985   \n",
       "4  1856-05-01  Nigeria              28.093                          1.198   \n",
       "5  1856-06-01  Nigeria              26.448                          0.446   \n",
       "6  1856-07-01  Nigeria              26.448                          0.446   \n",
       "7  1856-08-01  Nigeria              26.448                          0.446   \n",
       "8  1856-09-01  Nigeria              26.448                          0.446   \n",
       "9  1856-10-01  Nigeria              26.448                          0.446   \n",
       "\n",
       "   year month day  \n",
       "0  1856    01  01  \n",
       "1  1856    02  01  \n",
       "2  1856    03  01  \n",
       "3  1856    04  01  \n",
       "4  1856    05  01  \n",
       "5  1856    06  01  \n",
       "6  1856    07  01  \n",
       "7  1856    08  01  \n",
       "8  1856    09  01  \n",
       "9  1856    10  01  "
      ]
     },
     "execution_count": 20,
     "metadata": {},
     "output_type": "execute_result"
    }
   ],
   "source": [
    "g = clm['month'].str.split(\"-\", n=1, expand = True)\n",
    "clm['month']= g[0]\n",
    "clm['day']=g[1]\n",
    "clm.head(10)"
   ]
  },
  {
   "cell_type": "code",
   "execution_count": null,
   "metadata": {},
   "outputs": [],
   "source": []
  },
  {
   "cell_type": "code",
   "execution_count": 21,
   "metadata": {},
   "outputs": [
    {
     "data": {
      "text/html": [
       "<div>\n",
       "<style scoped>\n",
       "    .dataframe tbody tr th:only-of-type {\n",
       "        vertical-align: middle;\n",
       "    }\n",
       "\n",
       "    .dataframe tbody tr th {\n",
       "        vertical-align: top;\n",
       "    }\n",
       "\n",
       "    .dataframe thead th {\n",
       "        text-align: right;\n",
       "    }\n",
       "</style>\n",
       "<table border=\"1\" class=\"dataframe\">\n",
       "  <thead>\n",
       "    <tr style=\"text-align: right;\">\n",
       "      <th></th>\n",
       "      <th>Country</th>\n",
       "      <th>AverageTemperature</th>\n",
       "      <th>AverageTemperatureUncertainty</th>\n",
       "      <th>year</th>\n",
       "      <th>month</th>\n",
       "    </tr>\n",
       "  </thead>\n",
       "  <tbody>\n",
       "    <tr>\n",
       "      <th>0</th>\n",
       "      <td>Nigeria</td>\n",
       "      <td>24.367</td>\n",
       "      <td>1.082</td>\n",
       "      <td>1856</td>\n",
       "      <td>01</td>\n",
       "    </tr>\n",
       "    <tr>\n",
       "      <th>1</th>\n",
       "      <td>Nigeria</td>\n",
       "      <td>25.827</td>\n",
       "      <td>1.621</td>\n",
       "      <td>1856</td>\n",
       "      <td>02</td>\n",
       "    </tr>\n",
       "    <tr>\n",
       "      <th>2</th>\n",
       "      <td>Nigeria</td>\n",
       "      <td>28.494</td>\n",
       "      <td>1.015</td>\n",
       "      <td>1856</td>\n",
       "      <td>03</td>\n",
       "    </tr>\n",
       "    <tr>\n",
       "      <th>3</th>\n",
       "      <td>Nigeria</td>\n",
       "      <td>29.001</td>\n",
       "      <td>0.985</td>\n",
       "      <td>1856</td>\n",
       "      <td>04</td>\n",
       "    </tr>\n",
       "    <tr>\n",
       "      <th>4</th>\n",
       "      <td>Nigeria</td>\n",
       "      <td>28.093</td>\n",
       "      <td>1.198</td>\n",
       "      <td>1856</td>\n",
       "      <td>05</td>\n",
       "    </tr>\n",
       "  </tbody>\n",
       "</table>\n",
       "</div>"
      ],
      "text/plain": [
       "   Country  AverageTemperature  AverageTemperatureUncertainty  year month\n",
       "0  Nigeria              24.367                          1.082  1856    01\n",
       "1  Nigeria              25.827                          1.621  1856    02\n",
       "2  Nigeria              28.494                          1.015  1856    03\n",
       "3  Nigeria              29.001                          0.985  1856    04\n",
       "4  Nigeria              28.093                          1.198  1856    05"
      ]
     },
     "execution_count": 21,
     "metadata": {},
     "output_type": "execute_result"
    }
   ],
   "source": [
    "clm = clm.drop(['dt', 'day'], axis = 1)\n",
    "clm.head()"
   ]
  },
  {
   "cell_type": "code",
   "execution_count": null,
   "metadata": {},
   "outputs": [],
   "source": []
  },
  {
   "cell_type": "code",
   "execution_count": 22,
   "metadata": {},
   "outputs": [
    {
     "data": {
      "text/html": [
       "<div>\n",
       "<style scoped>\n",
       "    .dataframe tbody tr th:only-of-type {\n",
       "        vertical-align: middle;\n",
       "    }\n",
       "\n",
       "    .dataframe tbody tr th {\n",
       "        vertical-align: top;\n",
       "    }\n",
       "\n",
       "    .dataframe thead th {\n",
       "        text-align: right;\n",
       "    }\n",
       "</style>\n",
       "<table border=\"1\" class=\"dataframe\">\n",
       "  <thead>\n",
       "    <tr style=\"text-align: right;\">\n",
       "      <th></th>\n",
       "      <th>Country</th>\n",
       "      <th>AverageTemperature</th>\n",
       "      <th>AverageTemperatureUncertainty</th>\n",
       "      <th>year</th>\n",
       "      <th>month</th>\n",
       "    </tr>\n",
       "  </thead>\n",
       "  <tbody>\n",
       "    <tr>\n",
       "      <th>0</th>\n",
       "      <td>Nigeria</td>\n",
       "      <td>24.367</td>\n",
       "      <td>1.082</td>\n",
       "      <td>1856</td>\n",
       "      <td>1</td>\n",
       "    </tr>\n",
       "    <tr>\n",
       "      <th>1</th>\n",
       "      <td>Nigeria</td>\n",
       "      <td>25.827</td>\n",
       "      <td>1.621</td>\n",
       "      <td>1856</td>\n",
       "      <td>2</td>\n",
       "    </tr>\n",
       "    <tr>\n",
       "      <th>2</th>\n",
       "      <td>Nigeria</td>\n",
       "      <td>28.494</td>\n",
       "      <td>1.015</td>\n",
       "      <td>1856</td>\n",
       "      <td>3</td>\n",
       "    </tr>\n",
       "    <tr>\n",
       "      <th>3</th>\n",
       "      <td>Nigeria</td>\n",
       "      <td>29.001</td>\n",
       "      <td>0.985</td>\n",
       "      <td>1856</td>\n",
       "      <td>4</td>\n",
       "    </tr>\n",
       "    <tr>\n",
       "      <th>4</th>\n",
       "      <td>Nigeria</td>\n",
       "      <td>28.093</td>\n",
       "      <td>1.198</td>\n",
       "      <td>1856</td>\n",
       "      <td>5</td>\n",
       "    </tr>\n",
       "  </tbody>\n",
       "</table>\n",
       "</div>"
      ],
      "text/plain": [
       "   Country  AverageTemperature  AverageTemperatureUncertainty  year  month\n",
       "0  Nigeria              24.367                          1.082  1856      1\n",
       "1  Nigeria              25.827                          1.621  1856      2\n",
       "2  Nigeria              28.494                          1.015  1856      3\n",
       "3  Nigeria              29.001                          0.985  1856      4\n",
       "4  Nigeria              28.093                          1.198  1856      5"
      ]
     },
     "execution_count": 22,
     "metadata": {},
     "output_type": "execute_result"
    }
   ],
   "source": [
    "clm['year'] = pd.to_numeric(clm['year'])\n",
    "clm['month'] = pd.to_numeric(clm['month'])\n",
    "clm.head()"
   ]
  },
  {
   "cell_type": "code",
   "execution_count": 23,
   "metadata": {},
   "outputs": [
    {
     "data": {
      "text/plain": [
       "numpy.int64"
      ]
     },
     "execution_count": 23,
     "metadata": {},
     "output_type": "execute_result"
    }
   ],
   "source": [
    "type(clm.month[3])"
   ]
  },
  {
   "cell_type": "code",
   "execution_count": 24,
   "metadata": {},
   "outputs": [],
   "source": [
    "cl = clm[['AverageTemperature', 'AverageTemperatureUncertainty', 'month', 'year']]"
   ]
  },
  {
   "cell_type": "code",
   "execution_count": 25,
   "metadata": {},
   "outputs": [
    {
     "data": {
      "text/html": [
       "<div>\n",
       "<style scoped>\n",
       "    .dataframe tbody tr th:only-of-type {\n",
       "        vertical-align: middle;\n",
       "    }\n",
       "\n",
       "    .dataframe tbody tr th {\n",
       "        vertical-align: top;\n",
       "    }\n",
       "\n",
       "    .dataframe thead th {\n",
       "        text-align: right;\n",
       "    }\n",
       "</style>\n",
       "<table border=\"1\" class=\"dataframe\">\n",
       "  <thead>\n",
       "    <tr style=\"text-align: right;\">\n",
       "      <th></th>\n",
       "      <th>AverageTemperature</th>\n",
       "      <th>AverageTemperatureUncertainty</th>\n",
       "      <th>year</th>\n",
       "      <th>month</th>\n",
       "    </tr>\n",
       "  </thead>\n",
       "  <tbody>\n",
       "    <tr>\n",
       "      <th>AverageTemperature</th>\n",
       "      <td>1.000000</td>\n",
       "      <td>-0.177494</td>\n",
       "      <td>0.214476</td>\n",
       "      <td>-0.336836</td>\n",
       "    </tr>\n",
       "    <tr>\n",
       "      <th>AverageTemperatureUncertainty</th>\n",
       "      <td>-0.177494</td>\n",
       "      <td>1.000000</td>\n",
       "      <td>-0.583357</td>\n",
       "      <td>-0.033597</td>\n",
       "    </tr>\n",
       "    <tr>\n",
       "      <th>year</th>\n",
       "      <td>0.214476</td>\n",
       "      <td>-0.583357</td>\n",
       "      <td>1.000000</td>\n",
       "      <td>-0.003569</td>\n",
       "    </tr>\n",
       "    <tr>\n",
       "      <th>month</th>\n",
       "      <td>-0.336836</td>\n",
       "      <td>-0.033597</td>\n",
       "      <td>-0.003569</td>\n",
       "      <td>1.000000</td>\n",
       "    </tr>\n",
       "  </tbody>\n",
       "</table>\n",
       "</div>"
      ],
      "text/plain": [
       "                               AverageTemperature  \\\n",
       "AverageTemperature                       1.000000   \n",
       "AverageTemperatureUncertainty           -0.177494   \n",
       "year                                     0.214476   \n",
       "month                                   -0.336836   \n",
       "\n",
       "                               AverageTemperatureUncertainty      year  \\\n",
       "AverageTemperature                                 -0.177494  0.214476   \n",
       "AverageTemperatureUncertainty                       1.000000 -0.583357   \n",
       "year                                               -0.583357  1.000000   \n",
       "month                                              -0.033597 -0.003569   \n",
       "\n",
       "                                  month  \n",
       "AverageTemperature            -0.336836  \n",
       "AverageTemperatureUncertainty -0.033597  \n",
       "year                          -0.003569  \n",
       "month                          1.000000  "
      ]
     },
     "execution_count": 25,
     "metadata": {},
     "output_type": "execute_result"
    }
   ],
   "source": [
    "clm.corr()"
   ]
  },
  {
   "cell_type": "code",
   "execution_count": 26,
   "metadata": {},
   "outputs": [
    {
     "data": {
      "text/plain": [
       "<seaborn.axisgrid.JointGrid at 0x182fad990f0>"
      ]
     },
     "execution_count": 26,
     "metadata": {},
     "output_type": "execute_result"
    },
    {
     "data": {
      "image/png": "[encoded data removed]",
      "text/plain": [
       "<Figure size 432x432 with 3 Axes>"
      ]
     },
     "metadata": {
      "needs_background": "light"
     },
     "output_type": "display_data"
    }
   ],
   "source": [
    "sns.jointplot( x = \"AverageTemperature\", y = \"year\", data = clm , kind = 'reg')"
   ]
  },
  {
   "cell_type": "code",
   "execution_count": 27,
   "metadata": {},
   "outputs": [],
   "source": [
    "y = clm['AverageTemperature']\n",
    "X = clm.drop(['AverageTemperature', 'Country'], axis = 1)"
   ]
  },
  {
   "cell_type": "code",
   "execution_count": 28,
   "metadata": {},
   "outputs": [
    {
     "data": {
      "text/plain": [
       "1.5965113068539232"
      ]
     },
     "execution_count": 28,
     "metadata": {},
     "output_type": "execute_result"
    }
   ],
   "source": [
    "#null Hypthesis\n",
    "lr = LinearRegression(normalize= True) # this normalises the data\n",
    "rmse = np.sqrt(-cross_val_score(lr, X, y,scoring= \"neg_mean_squared_error\", cv=10).mean())\n",
    "rmse"
   ]
  },
  {
   "cell_type": "code",
   "execution_count": 29,
   "metadata": {},
   "outputs": [],
   "source": [
    "from sklearn.model_selection import cross_val_predict"
   ]
  },
  {
   "cell_type": "code",
   "execution_count": 30,
   "metadata": {},
   "outputs": [
    {
     "data": {
      "text/plain": [
       "26.70075246726502"
      ]
     },
     "execution_count": 30,
     "metadata": {},
     "output_type": "execute_result"
    }
   ],
   "source": [
    "#null Hypthesis\n",
    "lr = LinearRegression(normalize= True) # this normalises the data\n",
    "rmse = (cross_val_predict(lr, X, y, method= \"predict\", cv=10).mean())\n",
    "rmse\n"
   ]
  },
  {
   "cell_type": "code",
   "execution_count": null,
   "metadata": {},
   "outputs": [],
   "source": []
  },
  {
   "cell_type": "code",
   "execution_count": null,
   "metadata": {},
   "outputs": [],
   "source": []
  },
  {
   "cell_type": "code",
   "execution_count": 31,
   "metadata": {},
   "outputs": [
    {
     "data": {
      "text/plain": [
       "Text(0, 0.5, 'AverageTemperature')"
      ]
     },
     "execution_count": 31,
     "metadata": {},
     "output_type": "execute_result"
    },
    {
     "data": {
      "image/png": "[encoded data removed]",
      "text/plain": [
       "<Figure size 432x360 with 1 Axes>"
      ]
     },
     "metadata": {
      "needs_background": "light"
     },
     "output_type": "display_data"
    }
   ],
   "source": [
    "plt.figure(figsize=(6, 5))\n",
    "plt.plot(range(1,40), \"g-\")\n",
    "plt.xlabel(\"year\")\n",
    "plt.ylabel(\"AverageTemperature\")\n"
   ]
  },
  {
   "cell_type": "code",
   "execution_count": 33,
   "metadata": {},
   "outputs": [],
   "source": [
    "from lale.lib.lale import hyperopt"
   ]
  },
  {
   "cell_type": "code",
   "execution_count": 36,
   "metadata": {
    "scrolled": true
   },
   "outputs": [
    {
     "data": {
      "text/plain": [
       "['accuracy',\n",
       " 'adjusted_mutual_info_score',\n",
       " 'adjusted_rand_score',\n",
       " 'average_precision',\n",
       " 'balanced_accuracy',\n",
       " 'brier_score_loss',\n",
       " 'completeness_score',\n",
       " 'explained_variance',\n",
       " 'f1',\n",
       " 'f1_macro',\n",
       " 'f1_micro',\n",
       " 'f1_samples',\n",
       " 'f1_weighted',\n",
       " 'fowlkes_mallows_score',\n",
       " 'homogeneity_score',\n",
       " 'mutual_info_score',\n",
       " 'neg_log_loss',\n",
       " 'neg_mean_absolute_error',\n",
       " 'neg_mean_squared_error',\n",
       " 'neg_mean_squared_log_error',\n",
       " 'neg_median_absolute_error',\n",
       " 'normalized_mutual_info_score',\n",
       " 'precision',\n",
       " 'precision_macro',\n",
       " 'precision_micro',\n",
       " 'precision_samples',\n",
       " 'precision_weighted',\n",
       " 'r2',\n",
       " 'recall',\n",
       " 'recall_macro',\n",
       " 'recall_micro',\n",
       " 'recall_samples',\n",
       " 'recall_weighted',\n",
       " 'roc_auc',\n",
       " 'v_measure_score']"
      ]
     },
     "execution_count": 36,
     "metadata": {},
     "output_type": "execute_result"
    }
   ],
   "source": [
    "import sklearn.metrics\n",
    "sorted(sklearn.metrics.SCORERS.keys())"
   ]
  },
  {
   "cell_type": "code",
   "execution_count": null,
   "metadata": {},
   "outputs": [],
   "source": []
  }
 ],
 "metadata": {
  "kernelspec": {
   "display_name": "Python 3",
   "language": "python",
   "name": "python3"
  },
  "language_info": {
   "codemirror_mode": {
    "name": "ipython",
    "version": 3
   },
   "file_extension": ".py",
   "mimetype": "text/x-python",
   "name": "python",
   "nbconvert_exporter": "python",
   "pygments_lexer": "ipython3",
   "version": "3.7.3"
  }
 },
 "nbformat": 4,
 "nbformat_minor": 2
}
